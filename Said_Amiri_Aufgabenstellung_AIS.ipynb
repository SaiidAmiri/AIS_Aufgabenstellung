{
  "nbformat": 4,
  "nbformat_minor": 0,
  "metadata": {
    "colab": {
      "provenance": [],
      "authorship_tag": "ABX9TyPitqDQrrjNEfc2nEYLiL98",
      "include_colab_link": true
    },
    "kernelspec": {
      "name": "python3",
      "display_name": "Python 3"
    },
    "language_info": {
      "name": "python"
    }
  },
  "cells": [
    {
      "cell_type": "markdown",
      "metadata": {
        "id": "view-in-github",
        "colab_type": "text"
      },
      "source": [
        "<a href=\"https://colab.research.google.com/github/SaiidAmiri/AIS_Aufgabenstellung/blob/main/Said_Amiri_Aufgabenstellung_AIS.ipynb\" target=\"_parent\"><img src=\"https://colab.research.google.com/assets/colab-badge.svg\" alt=\"Open In Colab\"/></a>"
      ]
    },
    {
      "cell_type": "markdown",
      "source": [
        "**0- Bibliotheken und Datensätze importieren**"
      ],
      "metadata": {
        "id": "104_983R3pFg"
      }
    },
    {
      "cell_type": "code",
      "execution_count": 1,
      "metadata": {
        "id": "xULziAgJQEKV"
      },
      "outputs": [],
      "source": [
        "import numpy as np\n",
        "import pandas as pd\n",
        "from sklearn.feature_extraction.text import TfidfVectorizer\n",
        "from sklearn.metrics.pairwise import cosine_similarity\n",
        "from sentence_transformers import SentenceTransformer, util\n",
        "from google.colab import drive"
      ]
    },
    {
      "cell_type": "code",
      "source": [
        "# Mount Google Drive\n",
        "drive.mount('/gdrive')"
      ],
      "metadata": {
        "colab": {
          "base_uri": "https://localhost:8080/"
        },
        "id": "xnFgeAl6QezT",
        "outputId": "8181262e-0175-4479-8984-4484e74cf78d"
      },
      "execution_count": 2,
      "outputs": [
        {
          "output_type": "stream",
          "name": "stdout",
          "text": [
            "Mounted at /gdrive\n"
          ]
        }
      ]
    },
    {
      "cell_type": "code",
      "source": [
        "# Datensätze importieren\n",
        "Kundendatei_path = '/gdrive/MyDrive/AIS_Management/Kundendatei.xlsx'\n",
        "Beispielobjekte_path = '/gdrive/MyDrive/AIS_Management/Beispielobjekte.xlsx'\n",
        "EP_Katalog_path = '/gdrive/MyDrive/AIS_Management/EP_Katalog.xlsx'\n",
        "df_Kunden = pd.read_excel(Kundendatei_path)\n",
        "df_Beispielobjekt = pd.read_excel(Beispielobjekte_path)\n",
        "df_EP_Katalog = pd.read_excel(EP_Katalog_path)"
      ],
      "metadata": {
        "id": "9QsHM-qzQ6Pq"
      },
      "execution_count": 3,
      "outputs": []
    },
    {
      "cell_type": "markdown",
      "source": [
        "**1. Vollständigkeitsprüfung**"
      ],
      "metadata": {
        "id": "EpESeNGl4b1y"
      }
    },
    {
      "cell_type": "code",
      "source": [
        "def Vollständigkeit(df_Kunden, df_Beispielobjekt, model):\n",
        "  \"\"\"\n",
        "    Prüft, ob typische Anlagen pro Gebäude aus den Beispielobjekte im Kundendatensatz enthalten sind.\n",
        "\n",
        "    Vergleicht Kundenanlagen mit typischen Referenzanlagen anhand semantischer Ähnlichkeit\n",
        "    (SentenceTransformer-Modell).\n",
        "\n",
        "    Parameter:\n",
        "        df_Kunden (pd.DataFrame): Kundendaten mit 'WirtEinh' und 'EQ-Klasse-Bezeichnung'.\n",
        "        df_Beispielobjekt (pd.DataFrame): Referenzanlagen mit 'AKS-Bezeichnung'.\n",
        "        model: Ein SentenceTransformer-Modell zur Vektor-Repräsentation der Anlagentexte.\n",
        "\n",
        "    Rückgabe:\n",
        "        pd.DataFrame: Tabelle mit Gebäude, Anlage, höchste berechnete Ähnlichkeit zur Kundenanlage und Status ('✅' oder '❌').\n",
        "  \"\"\"\n",
        "  # Liste typischer Anlagen\n",
        "  typische_anlagen = df_Beispielobjekt[\"AKS-Bezeichnung\"].dropna().drop_duplicates()\n",
        "  # Alle Gebäude\n",
        "  gebaeude_ids = df_Kunden[\"WirtEinh\"].drop_duplicates()\n",
        "  # Lade und bereite Daten vor\n",
        "  result = []\n",
        "\n",
        "  # Pre-encode Referenzanlagen für Effizienz\n",
        "  typische_anlagen_list = [str(a) for a in typische_anlagen]\n",
        "  typische_embeddings = model.encode(typische_anlagen_list, convert_to_tensor=True)\n",
        "  for gid in gebaeude_ids:\n",
        "    # Kundenanlagen pro Gebäude\n",
        "    gebaeude_anlagen = df_Kunden[df_Kunden[\"WirtEinh\"] == gid][\"EQ-Klasse-Bezeichnung\"].dropna().unique()\n",
        "    gebaeude_anlagen_list = [str(a) for a in gebaeude_anlagen]\n",
        "    kunden_embeddings = model.encode(gebaeude_anlagen_list, convert_to_tensor=True)\n",
        "\n",
        "    # Ähnlichkeitsmatrix: Kundenanlagen vs. Referenzanlagen\n",
        "    cosine_similarities = util.cos_sim(kunden_embeddings, typische_embeddings)\n",
        "\n",
        "    # max pro Spalte (jede Referenzanlage → höchster Match mit einer Kundenanlage)\n",
        "    for idx, referenz in enumerate(typische_anlagen_list):\n",
        "        max_similarity = cosine_similarities[:, idx].max().item()\n",
        "        vorhanden = max_similarity > 0.7  # Schwellenwert (anpassbar)\n",
        "        result.append({\n",
        "            \"Gebäude\": gid,\n",
        "            \"Typische Anlage\": referenz,\n",
        "            \"Maximale Ähnlichkeit\": round(max_similarity, 2),\n",
        "            \"Status\": \"✅ Vorhanden\" if vorhanden else \"❌ Fehlend\"\n",
        "        })\n",
        "\n",
        "  return pd.DataFrame(result)"
      ],
      "metadata": {
        "id": "mwmIShsKvQ7c"
      },
      "execution_count": 4,
      "outputs": []
    },
    {
      "cell_type": "code",
      "source": [
        "# SentenceTransformer-Modell zur Vektor-Repräsentation der Anlagentexte\n",
        "model = SentenceTransformer('paraphrase-MiniLM-L6-v2')\n",
        "# Ergebnisdatei zur Vollständigkeitsprüfung\n",
        "df_Vergleich = Vollständigkeit(df_Kunden, df_Beispielobjekt, model)\n",
        "# Excel-Datei exportieren\n",
        "file_path = '/gdrive/MyDrive/AIS_Management/Vollständigkeitsprüfung.xlsx'\n",
        "df_Vergleich.to_excel(file_path, index=False)"
      ],
      "metadata": {
        "id": "uLKtJFHj5Xil"
      },
      "execution_count": 7,
      "outputs": []
    },
    {
      "cell_type": "markdown",
      "source": [
        "**2. EP-Zuordnung**"
      ],
      "metadata": {
        "id": "6Qgl9mxZ5LMY"
      }
    },
    {
      "cell_type": "code",
      "source": [
        "def EP_Zuordnung(df_Kunden, df_EP_Katalog):\n",
        "  \"\"\"\n",
        "    Ordnet jeder Kundenanlage die passendste Artikelnummer aus dem EP-Katalog zu.\n",
        "\n",
        "    Nutzt TF-IDF-Vektorisierung und Cosine Similarity, um Kundenbeschreibungen mit\n",
        "    Katalogtexten zu vergleichen.\n",
        "\n",
        "    Parameter:\n",
        "        df_Kunden (pd.DataFrame): Kundendaten mit Anlagenbezeichnungen.\n",
        "        df_EP_Katalog (pd.DataFrame): EP-Katalog mit 'Artikelnummer' und 'Kurztext / Bezeichnung'.\n",
        "\n",
        "    Rückgabe:\n",
        "        pd.DataFrame: Erweiterter Kundendatensatz mit zugeordneter Artikelnummer und Kurztext.\n",
        "  \"\"\"\n",
        "  # Nur Zeilen mit Artikelnummern\n",
        "  df_EP_Katalog = df_EP_Katalog[df_EP_Katalog[\"Artikelnummer\"].notna()]\n",
        "\n",
        "  # Texte zusammenstellen\n",
        "  kunden_texts = df_Kunden[\"EQ-Bezeichnung\"].fillna('') + \" \" + \\\n",
        "               df_Kunden[\"EQ-Klasse-Bezeichnung\"].fillna('') + \" \" + \\\n",
        "               df_Kunden[\"Anlagenausprägung\"].fillna('')\n",
        "\n",
        "  ep_texts = df_EP_Katalog[\"Kurztext / Bezeichnung\"].fillna('')\n",
        "\n",
        "  # TF-IDF-Vektoren berechnen\n",
        "  vectorizer = TfidfVectorizer().fit(pd.concat([kunden_texts, ep_texts]))\n",
        "  kunden_vecs = vectorizer.transform(kunden_texts)\n",
        "  ep_vecs = vectorizer.transform(ep_texts)\n",
        "\n",
        "  # Ähnlichkeiten berechnen\n",
        "  similarity_matrix = cosine_similarity(kunden_vecs, ep_vecs)\n",
        "  best_matches = similarity_matrix.argmax(axis=1)\n",
        "\n",
        "  # Zuordnungen einfügen\n",
        "  df_Kunden[\"Zugeordnete Artikelnummer\"] = df_EP_Katalog.iloc[best_matches][\"Artikelnummer\"].values\n",
        "  df_Kunden[\"Artikel Kurztext\"] = df_EP_Katalog.iloc[best_matches][\"Kurztext / Bezeichnung\"].values\n",
        "\n",
        "  return df_Kunden"
      ],
      "metadata": {
        "id": "C67ZbGsJ7Y7S"
      },
      "execution_count": 6,
      "outputs": []
    },
    {
      "cell_type": "code",
      "source": [
        "# Ergebnisdatei zur EP-Zuordnung\n",
        "df_EP_Zuordnung = EP_Zuordnung(df_Kunden, df_EP_Katalog)\n",
        "# Excel-Datei exportieren\n",
        "file_path = '/gdrive/MyDrive/AIS_Management/EP_Zuordnung.xlsx'\n",
        "df_EP_Zuordnung.to_excel(file_path, index=False)"
      ],
      "metadata": {
        "id": "y7Dgjy3U8QKx"
      },
      "execution_count": 9,
      "outputs": []
    }
  ]
}